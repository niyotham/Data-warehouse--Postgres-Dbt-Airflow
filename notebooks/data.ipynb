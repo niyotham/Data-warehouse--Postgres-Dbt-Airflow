{
 "cells": [
  {
   "cell_type": "code",
   "execution_count": null,
   "metadata": {},
   "outputs": [
    {
     "name": "stdout",
     "output_type": "stream",
     "text": [
      "Collecting psycopg2-binary\n",
      "  Downloading psycopg2_binary-2.9.3-cp38-cp38-macosx_10_14_x86_64.macosx_10_9_intel.macosx_10_9_x86_64.macosx_10_10_intel.macosx_10_10_x86_64.whl (2.2 MB)\n",
      "\u001b[2K     \u001b[90m━━━━━━━━━━━━━━━━━━━━━━━━━━━━━━━━━━━━━━━━\u001b[0m \u001b[32m2.2/2.2 MB\u001b[0m \u001b[31m70.6 kB/s\u001b[0m eta \u001b[36m0:00:00\u001b[0m00:01\u001b[0m00:01\u001b[0m\n",
      "\u001b[?25hInstalling collected packages: psycopg2-binary\n",
      "Successfully installed psycopg2-binary-2.9.3\n"
     ]
    }
   ],
   "source": [
    "# ! pip install psycopg2-binary"
   ]
  },
  {
   "cell_type": "code",
   "execution_count": 35,
   "metadata": {},
   "outputs": [
    {
     "name": "stdout",
     "output_type": "stream",
     "text": [
      "Creating the connection\n"
     ]
    }
   ],
   "source": [
    "import numpy as np\n",
    "import pandas as pd\n",
    "import  psycopg2\n",
    "import sys, os\n",
    "sys.path.append('../')\n",
    "sys.path.append(os.path.abspath(os.path.join(\"../scripts\")))\n",
    "from scripts.data_extractor import DataExtractor\n",
    "from scripts.data_loader import DataLoader\n",
    "\n",
    "extractor = DataExtractor()\n",
    "loader = DataLoader()\n",
    "\n"
   ]
  },
  {
   "cell_type": "code",
   "execution_count": 20,
   "metadata": {},
   "outputs": [],
   "source": [
    "data = pd.read_csv('../data/20181029_d1_0800_0830.csv',sep=',', )"
   ]
  },
  {
   "cell_type": "code",
   "execution_count": 25,
   "metadata": {},
   "outputs": [
    {
     "data": {
      "text/html": [
       "<div>\n",
       "<style scoped>\n",
       "    .dataframe tbody tr th:only-of-type {\n",
       "        vertical-align: middle;\n",
       "    }\n",
       "\n",
       "    .dataframe tbody tr th {\n",
       "        vertical-align: top;\n",
       "    }\n",
       "\n",
       "    .dataframe thead th {\n",
       "        text-align: right;\n",
       "    }\n",
       "</style>\n",
       "<table border=\"1\" class=\"dataframe\">\n",
       "  <thead>\n",
       "    <tr style=\"text-align: right;\">\n",
       "      <th></th>\n",
       "      <th>track_id; type; traveled_d; avg_speed; lat; lon; speed; lon_acc; lat_acc; time</th>\n",
       "    </tr>\n",
       "  </thead>\n",
       "  <tbody>\n",
       "    <tr>\n",
       "      <th>0</th>\n",
       "      <td>1; Car; 25.59; 5.549289; 37.977353; 23.737695;...</td>\n",
       "    </tr>\n",
       "    <tr>\n",
       "      <th>1</th>\n",
       "      <td>2; Car; 103.37; 18.985780; 37.978027; 23.73723...</td>\n",
       "    </tr>\n",
       "    <tr>\n",
       "      <th>2</th>\n",
       "      <td>3; Motorcycle; 130.36; 32.589339; 37.978110; 2...</td>\n",
       "    </tr>\n",
       "    <tr>\n",
       "      <th>3</th>\n",
       "      <td>4; Motorcycle; 160.70; 26.537342; 37.978128; 2...</td>\n",
       "    </tr>\n",
       "    <tr>\n",
       "      <th>4</th>\n",
       "      <td>5; Car; 164.14; 26.379138; 37.978152; 23.73711...</td>\n",
       "    </tr>\n",
       "  </tbody>\n",
       "</table>\n",
       "</div>"
      ],
      "text/plain": [
       "  track_id; type; traveled_d; avg_speed; lat; lon; speed; lon_acc; lat_acc; time\n",
       "0  1; Car; 25.59; 5.549289; 37.977353; 23.737695;...                            \n",
       "1  2; Car; 103.37; 18.985780; 37.978027; 23.73723...                            \n",
       "2  3; Motorcycle; 130.36; 32.589339; 37.978110; 2...                            \n",
       "3  4; Motorcycle; 160.70; 26.537342; 37.978128; 2...                            \n",
       "4  5; Car; 164.14; 26.379138; 37.978152; 23.73711...                            "
      ]
     },
     "execution_count": 25,
     "metadata": {},
     "output_type": "execute_result"
    }
   ],
   "source": [
    "data.head()"
   ]
  },
  {
   "cell_type": "code",
   "execution_count": 31,
   "metadata": {},
   "outputs": [
    {
     "data": {
      "text/plain": [
       "track_id; type; traveled_d; avg_speed; lat; lon; speed; lon_acc; lat_acc; time    3; Motorcycle; 130.36; 32.589339; 37.978110; 2...\n",
       "Name: 2, dtype: object"
      ]
     },
     "execution_count": 31,
     "metadata": {},
     "output_type": "execute_result"
    }
   ],
   "source": [
    "data.iloc[2]\n"
   ]
  },
  {
   "cell_type": "code",
   "execution_count": 34,
   "metadata": {},
   "outputs": [
    {
     "name": "stdout",
     "output_type": "stream",
     "text": [
      "dataframe successfully created\n"
     ]
    },
    {
     "data": {
      "text/html": [
       "<div>\n",
       "<style scoped>\n",
       "    .dataframe tbody tr th:only-of-type {\n",
       "        vertical-align: middle;\n",
       "    }\n",
       "\n",
       "    .dataframe tbody tr th {\n",
       "        vertical-align: top;\n",
       "    }\n",
       "\n",
       "    .dataframe thead th {\n",
       "        text-align: right;\n",
       "    }\n",
       "</style>\n",
       "<table border=\"1\" class=\"dataframe\">\n",
       "  <thead>\n",
       "    <tr style=\"text-align: right;\">\n",
       "      <th></th>\n",
       "      <th>track_id</th>\n",
       "      <th>types</th>\n",
       "      <th>traveled_d</th>\n",
       "      <th>avg_speed</th>\n",
       "      <th>trajectory</th>\n",
       "    </tr>\n",
       "  </thead>\n",
       "  <tbody>\n",
       "    <tr>\n",
       "      <th>0</th>\n",
       "      <td>1</td>\n",
       "      <td>Car</td>\n",
       "      <td>25.59</td>\n",
       "      <td>5.549289</td>\n",
       "      <td>37.977353, 23.737695, 0.0000, 0.0000, 0.0000, ...</td>\n",
       "    </tr>\n",
       "    <tr>\n",
       "      <th>1</th>\n",
       "      <td>2</td>\n",
       "      <td>Car</td>\n",
       "      <td>103.37</td>\n",
       "      <td>18.985780</td>\n",
       "      <td>37.978027, 23.737237, 19.5936, -0.0688, -0.817...</td>\n",
       "    </tr>\n",
       "    <tr>\n",
       "      <th>2</th>\n",
       "      <td>3</td>\n",
       "      <td>Motorcycle</td>\n",
       "      <td>130.36</td>\n",
       "      <td>32.589339</td>\n",
       "      <td>37.978110, 23.737129, 0.0053, 0.0083, 0.0000, ...</td>\n",
       "    </tr>\n",
       "    <tr>\n",
       "      <th>3</th>\n",
       "      <td>4</td>\n",
       "      <td>Motorcycle</td>\n",
       "      <td>160.70</td>\n",
       "      <td>26.537342</td>\n",
       "      <td>37.978128, 23.737149, 0.0022, 0.0031, -0.0000,...</td>\n",
       "    </tr>\n",
       "    <tr>\n",
       "      <th>4</th>\n",
       "      <td>5</td>\n",
       "      <td>Car</td>\n",
       "      <td>164.14</td>\n",
       "      <td>26.379138</td>\n",
       "      <td>37.978152, 23.737110, 0.0015, 0.0024, -0.0000,...</td>\n",
       "    </tr>\n",
       "  </tbody>\n",
       "</table>\n",
       "</div>"
      ],
      "text/plain": [
       "  track_id        types traveled_d   avg_speed  \\\n",
       "0        1          Car      25.59    5.549289   \n",
       "1        2          Car     103.37   18.985780   \n",
       "2        3   Motorcycle     130.36   32.589339   \n",
       "3        4   Motorcycle     160.70   26.537342   \n",
       "4        5          Car     164.14   26.379138   \n",
       "\n",
       "                                          trajectory  \n",
       "0  37.977353, 23.737695, 0.0000, 0.0000, 0.0000, ...  \n",
       "1  37.978027, 23.737237, 19.5936, -0.0688, -0.817...  \n",
       "2  37.978110, 23.737129, 0.0053, 0.0083, 0.0000, ...  \n",
       "3  37.978128, 23.737149, 0.0022, 0.0031, -0.0000,...  \n",
       "4  37.978152, 23.737110, 0.0015, 0.0024, -0.0000,...  "
      ]
     },
     "execution_count": 34,
     "metadata": {},
     "output_type": "execute_result"
    }
   ],
   "source": [
    "# restruct the dataframe\n",
    "df = extractor.restruct(data)\n",
    "df.head()"
   ]
  },
  {
   "cell_type": "code",
   "execution_count": 37,
   "metadata": {},
   "outputs": [],
   "source": [
    "# create connection with wareouse postgres\n",
    "connection, cursor = loader.connect_to_server(host=\"localhost\", user=\"warehouse\", password=\"\", dbName=\"warehouse\") #"
   ]
  }
 ],
 "metadata": {
  "kernelspec": {
   "display_name": "Python 3.8.13 ('thesis')",
   "language": "python",
   "name": "python3"
  },
  "language_info": {
   "codemirror_mode": {
    "name": "ipython",
    "version": 3
   },
   "file_extension": ".py",
   "mimetype": "text/x-python",
   "name": "python",
   "nbconvert_exporter": "python",
   "pygments_lexer": "ipython3",
   "version": "3.8.13"
  },
  "orig_nbformat": 4,
  "vscode": {
   "interpreter": {
    "hash": "127c9fa14470e045f6a2034952a8c55c4999935bdbd1a20b2139b0cc36e4291d"
   }
  }
 },
 "nbformat": 4,
 "nbformat_minor": 2
}
